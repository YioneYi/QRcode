{
 "cells": [
  {
   "cell_type": "markdown",
   "metadata": {},
   "source": [
    "静态和动态二维码，在二维码中添加文字（中文不行）和链接"
   ]
  },
  {
   "cell_type": "code",
   "execution_count": 1,
   "metadata": {},
   "outputs": [],
   "source": [
    "from MyQR import myqr"
   ]
  },
  {
   "cell_type": "code",
   "execution_count": 2,
   "metadata": {},
   "outputs": [
    {
     "name": "stdout",
     "output_type": "stream",
     "text": [
      "line 16: mode: byte\n"
     ]
    },
    {
     "data": {
      "text/plain": [
       "(3, 'H', 'C:\\\\Users\\\\cuijg21\\\\qrcode.png')"
      ]
     },
     "execution_count": 2,
     "metadata": {},
     "output_type": "execute_result"
    }
   ],
   "source": [
    "#默认生成的二维码\n",
    "myqr.run(words='This is a QRcode.')"
   ]
  },
  {
   "cell_type": "code",
   "execution_count": 3,
   "metadata": {},
   "outputs": [
    {
     "name": "stdout",
     "output_type": "stream",
     "text": [
      "line 16: mode: byte\n"
     ]
    },
    {
     "data": {
      "text/plain": [
       "(10, 'H', 'C:\\\\Users\\\\cuijg21\\\\github10.bmp')"
      ]
     },
     "execution_count": 3,
     "metadata": {},
     "output_type": "execute_result"
    }
   ],
   "source": [
    "#静态二维码\n",
    "myqr.run(\n",
    "         words='https://github.com/',  # 不支持中文，支持 0~9,a~z, A~Z 以及常见的常用英文标点符号、空格和链接\n",
    "         version=10,                   # 版本，从 1至 40\n",
    "         level='H',                    # 纠错等级，范围是L、M、Q、H，从左到右依次升高\n",
    "         picture='github.jpg',         # 文件要放在目录下\n",
    "         colorized=True,               # True 为彩色，False 为黑白\n",
    "         contrast=1.0,                 # 对比度\n",
    "         brightness=1.0,               # 亮度\n",
    "         save_name='github10.bmp',          # 命名随便都行，格式可以是jpg,png,bmp,gif\n",
    "         save_dir=\"C:\\\\Users\\\\cuijg21\\\\\"  # 保存路径路径要存在\n",
    "         )\n"
   ]
  },
  {
   "cell_type": "code",
   "execution_count": 4,
   "metadata": {},
   "outputs": [
    {
     "name": "stdout",
     "output_type": "stream",
     "text": [
      "line 16: mode: byte\n"
     ]
    },
    {
     "data": {
      "text/plain": [
       "(10, 'H', 'C:\\\\Users\\\\cuijg21\\\\x10.gif')"
      ]
     },
     "execution_count": 4,
     "metadata": {},
     "output_type": "execute_result"
    }
   ],
   "source": [
    "#动态二维码\n",
    "myqr.run(\n",
    "         words='https://github.com/',  # 不支持中文，支持 0~9,a~z, A~Z 以及常见的常用英文标点符号、空格和链接\n",
    "         version=10,                   # 版本，从 1至 40\n",
    "         level='H',                    # 纠错等级，范围是L、M、Q、H，从左到右依次升高\n",
    "         picture='biu.gif',            # 文件要放在目录下\n",
    "         colorized=True,               # True为彩色，False为黑白\n",
    "         contrast=1.0,                 # 对比度\n",
    "         brightness=1.0,               # 亮度\n",
    "         save_name='x10.gif',          # 命名随便都行，格式可以是jpg,png,bmp,gif\n",
    "         save_dir=\"C:\\\\Users\\\\cuijg21\\\\\"  # 保存路径路径要存在\n",
    "         )\n"
   ]
  },
  {
   "cell_type": "code",
   "execution_count": null,
   "metadata": {
    "collapsed": true
   },
   "outputs": [],
   "source": []
  }
 ],
 "metadata": {
  "kernelspec": {
   "display_name": "Python 3",
   "language": "python",
   "name": "python3"
  },
  "language_info": {
   "codemirror_mode": {
    "name": "ipython",
    "version": 3
   },
   "file_extension": ".py",
   "mimetype": "text/x-python",
   "name": "python",
   "nbconvert_exporter": "python",
   "pygments_lexer": "ipython3",
   "version": "3.6.2"
  }
 },
 "nbformat": 4,
 "nbformat_minor": 2
}
